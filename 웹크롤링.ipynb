{
 "cells": [
  {
   "cell_type": "code",
   "execution_count": 4,
   "metadata": {
    "colab": {
     "base_uri": "https://localhost:8080/",
     "height": 1000
    },
    "id": "2Wog3eyTIKKV",
    "outputId": "ebe78e0f-d34b-4af0-9761-0818cc646b18"
   },
   "outputs": [
    {
     "name": "stdout",
     "output_type": "stream",
     "text": [
      "/bin/sh: apt: command not found\n",
      "/bin/sh: apt: command not found\n",
      "Requirement already satisfied: selenium in /home/ec2-user/anaconda3/envs/pytorch_p36/lib/python3.6/site-packages (3.141.0)\n",
      "Requirement already satisfied: urllib3 in /home/ec2-user/anaconda3/envs/pytorch_p36/lib/python3.6/site-packages (from selenium) (1.25.8)\n",
      "Requirement already up-to-date: pip in /home/ec2-user/anaconda3/envs/pytorch_p36/lib/python3.6/site-packages (20.2.3)\n"
     ]
    }
   ],
   "source": [
    "#크롬드라이버,selenium 설치\n",
    "!apt update\n",
    "!apt install chromium-chromedriver\n",
    "!pip install selenium\n",
    "!pip install --upgrade pip\n",
    "\n",
    "# 옵션설정\n",
    "from selenium import webdriver\n",
    "options = webdriver.ChromeOptions()\n",
    "options.add_argument('--headless')\n",
    "options.add_argument('--no-sandbox')\n",
    "options.add_argument('--disable-dev-shm-usage')\n",
    "\n",
    "\n"
   ]
  },
  {
   "cell_type": "code",
   "execution_count": 7,
   "metadata": {
    "id": "2s-ADv4jJq1T"
   },
   "outputs": [
    {
     "ename": "WebDriverException",
     "evalue": "Message: 'chromedriver.exe' executable needs to be in PATH. Please see https://sites.google.com/a/chromium.org/chromedriver/home\n",
     "output_type": "error",
     "traceback": [
      "\u001b[0;31m---------------------------------------------------------------------------\u001b[0m",
      "\u001b[0;31mFileNotFoundError\u001b[0m                         Traceback (most recent call last)",
      "\u001b[0;32m~/anaconda3/envs/pytorch_p36/lib/python3.6/site-packages/selenium/webdriver/common/service.py\u001b[0m in \u001b[0;36mstart\u001b[0;34m(self)\u001b[0m\n\u001b[1;32m     75\u001b[0m                                             \u001b[0mstderr\u001b[0m\u001b[0;34m=\u001b[0m\u001b[0mself\u001b[0m\u001b[0;34m.\u001b[0m\u001b[0mlog_file\u001b[0m\u001b[0;34m,\u001b[0m\u001b[0;34m\u001b[0m\u001b[0;34m\u001b[0m\u001b[0m\n\u001b[0;32m---> 76\u001b[0;31m                                             stdin=PIPE)\n\u001b[0m\u001b[1;32m     77\u001b[0m         \u001b[0;32mexcept\u001b[0m \u001b[0mTypeError\u001b[0m\u001b[0;34m:\u001b[0m\u001b[0;34m\u001b[0m\u001b[0;34m\u001b[0m\u001b[0m\n",
      "\u001b[0;32m~/anaconda3/envs/pytorch_p36/lib/python3.6/subprocess.py\u001b[0m in \u001b[0;36m__init__\u001b[0;34m(self, args, bufsize, executable, stdin, stdout, stderr, preexec_fn, close_fds, shell, cwd, env, universal_newlines, startupinfo, creationflags, restore_signals, start_new_session, pass_fds, encoding, errors)\u001b[0m\n\u001b[1;32m    728\u001b[0m                                 \u001b[0merrread\u001b[0m\u001b[0;34m,\u001b[0m \u001b[0merrwrite\u001b[0m\u001b[0;34m,\u001b[0m\u001b[0;34m\u001b[0m\u001b[0;34m\u001b[0m\u001b[0m\n\u001b[0;32m--> 729\u001b[0;31m                                 restore_signals, start_new_session)\n\u001b[0m\u001b[1;32m    730\u001b[0m         \u001b[0;32mexcept\u001b[0m\u001b[0;34m:\u001b[0m\u001b[0;34m\u001b[0m\u001b[0;34m\u001b[0m\u001b[0m\n",
      "\u001b[0;32m~/anaconda3/envs/pytorch_p36/lib/python3.6/subprocess.py\u001b[0m in \u001b[0;36m_execute_child\u001b[0;34m(self, args, executable, preexec_fn, close_fds, pass_fds, cwd, env, startupinfo, creationflags, shell, p2cread, p2cwrite, c2pread, c2pwrite, errread, errwrite, restore_signals, start_new_session)\u001b[0m\n\u001b[1;32m   1363\u001b[0m                             \u001b[0merr_msg\u001b[0m \u001b[0;34m+=\u001b[0m \u001b[0;34m': '\u001b[0m \u001b[0;34m+\u001b[0m \u001b[0mrepr\u001b[0m\u001b[0;34m(\u001b[0m\u001b[0merr_filename\u001b[0m\u001b[0;34m)\u001b[0m\u001b[0;34m\u001b[0m\u001b[0;34m\u001b[0m\u001b[0m\n\u001b[0;32m-> 1364\u001b[0;31m                     \u001b[0;32mraise\u001b[0m \u001b[0mchild_exception_type\u001b[0m\u001b[0;34m(\u001b[0m\u001b[0merrno_num\u001b[0m\u001b[0;34m,\u001b[0m \u001b[0merr_msg\u001b[0m\u001b[0;34m,\u001b[0m \u001b[0merr_filename\u001b[0m\u001b[0;34m)\u001b[0m\u001b[0;34m\u001b[0m\u001b[0;34m\u001b[0m\u001b[0m\n\u001b[0m\u001b[1;32m   1365\u001b[0m                 \u001b[0;32mraise\u001b[0m \u001b[0mchild_exception_type\u001b[0m\u001b[0;34m(\u001b[0m\u001b[0merr_msg\u001b[0m\u001b[0;34m)\u001b[0m\u001b[0;34m\u001b[0m\u001b[0;34m\u001b[0m\u001b[0m\n",
      "\u001b[0;31mFileNotFoundError\u001b[0m: [Errno 2] No such file or directory: 'C:\\\\Users\\\\y\\\\Downloads\\\\chromedriver_win32/chromedriver.exe': 'C:\\\\Users\\\\y\\\\Downloads\\\\chromedriver_win32/chromedriver.exe'",
      "\nDuring handling of the above exception, another exception occurred:\n",
      "\u001b[0;31mWebDriverException\u001b[0m                        Traceback (most recent call last)",
      "\u001b[0;32m<ipython-input-7-9716722505f1>\u001b[0m in \u001b[0;36m<module>\u001b[0;34m\u001b[0m\n\u001b[0;32m----> 1\u001b[0;31m \u001b[0mdriver\u001b[0m \u001b[0;34m=\u001b[0m \u001b[0mwebdriver\u001b[0m\u001b[0;34m.\u001b[0m\u001b[0mChrome\u001b[0m\u001b[0;34m(\u001b[0m\u001b[0;34mr'C:\\Users\\y\\Downloads\\chromedriver_win32/chromedriver.exe'\u001b[0m\u001b[0;34m)\u001b[0m\u001b[0;34m\u001b[0m\u001b[0;34m\u001b[0m\u001b[0m\n\u001b[0m\u001b[1;32m      2\u001b[0m \u001b[0;31m#driver = webdriver.Chrome(options=options)\u001b[0m\u001b[0;34m\u001b[0m\u001b[0;34m\u001b[0m\u001b[0;34m\u001b[0m\u001b[0m\n\u001b[1;32m      3\u001b[0m \u001b[0mdriver\u001b[0m\u001b[0;34m.\u001b[0m\u001b[0mget\u001b[0m\u001b[0;34m(\u001b[0m\u001b[0;34m\"https://www.melon.com/chart/day/index.htm\"\u001b[0m\u001b[0;34m)\u001b[0m  \u001b[0;31m#url 받아오기\u001b[0m\u001b[0;34m\u001b[0m\u001b[0;34m\u001b[0m\u001b[0m\n",
      "\u001b[0;32m~/anaconda3/envs/pytorch_p36/lib/python3.6/site-packages/selenium/webdriver/chrome/webdriver.py\u001b[0m in \u001b[0;36m__init__\u001b[0;34m(self, executable_path, port, options, service_args, desired_capabilities, service_log_path, chrome_options, keep_alive)\u001b[0m\n\u001b[1;32m     71\u001b[0m             \u001b[0mservice_args\u001b[0m\u001b[0;34m=\u001b[0m\u001b[0mservice_args\u001b[0m\u001b[0;34m,\u001b[0m\u001b[0;34m\u001b[0m\u001b[0;34m\u001b[0m\u001b[0m\n\u001b[1;32m     72\u001b[0m             log_path=service_log_path)\n\u001b[0;32m---> 73\u001b[0;31m         \u001b[0mself\u001b[0m\u001b[0;34m.\u001b[0m\u001b[0mservice\u001b[0m\u001b[0;34m.\u001b[0m\u001b[0mstart\u001b[0m\u001b[0;34m(\u001b[0m\u001b[0;34m)\u001b[0m\u001b[0;34m\u001b[0m\u001b[0;34m\u001b[0m\u001b[0m\n\u001b[0m\u001b[1;32m     74\u001b[0m \u001b[0;34m\u001b[0m\u001b[0m\n\u001b[1;32m     75\u001b[0m         \u001b[0;32mtry\u001b[0m\u001b[0;34m:\u001b[0m\u001b[0;34m\u001b[0m\u001b[0;34m\u001b[0m\u001b[0m\n",
      "\u001b[0;32m~/anaconda3/envs/pytorch_p36/lib/python3.6/site-packages/selenium/webdriver/common/service.py\u001b[0m in \u001b[0;36mstart\u001b[0;34m(self)\u001b[0m\n\u001b[1;32m     81\u001b[0m                 raise WebDriverException(\n\u001b[1;32m     82\u001b[0m                     \"'%s' executable needs to be in PATH. %s\" % (\n\u001b[0;32m---> 83\u001b[0;31m                         os.path.basename(self.path), self.start_error_message)\n\u001b[0m\u001b[1;32m     84\u001b[0m                 )\n\u001b[1;32m     85\u001b[0m             \u001b[0;32melif\u001b[0m \u001b[0merr\u001b[0m\u001b[0;34m.\u001b[0m\u001b[0merrno\u001b[0m \u001b[0;34m==\u001b[0m \u001b[0merrno\u001b[0m\u001b[0;34m.\u001b[0m\u001b[0mEACCES\u001b[0m\u001b[0;34m:\u001b[0m\u001b[0;34m\u001b[0m\u001b[0;34m\u001b[0m\u001b[0m\n",
      "\u001b[0;31mWebDriverException\u001b[0m: Message: 'chromedriver.exe' executable needs to be in PATH. Please see https://sites.google.com/a/chromium.org/chromedriver/home\n"
     ]
    }
   ],
   "source": [
    "driver = webdriver.Chrome(r'C:\\Users\\y\\Downloads\\chromedriver_win32/chromedriver.exe')\n",
    "#driver = webdriver.Chrome(options=options)   \n",
    "driver.get(\"https://www.melon.com/chart/day/index.htm\")  #url 받아오기"
   ]
  },
  {
   "cell_type": "code",
   "execution_count": null,
   "metadata": {
    "colab": {
     "base_uri": "https://localhost:8080/",
     "height": 1000
    },
    "id": "Lwn2IZ3wJPZv",
    "outputId": "068421e3-bd0f-4b4b-f1bc-7b6435c1021b"
   },
   "outputs": [],
   "source": [
    "print(driver.page_source)\n",
    "\n"
   ]
  },
  {
   "cell_type": "code",
   "execution_count": 6,
   "metadata": {
    "id": "H0B6-efBM3Ig"
   },
   "outputs": [
    {
     "ename": "NameError",
     "evalue": "name 'driver' is not defined",
     "output_type": "error",
     "traceback": [
      "\u001b[0;31m---------------------------------------------------------------------------\u001b[0m",
      "\u001b[0;31mNameError\u001b[0m                                 Traceback (most recent call last)",
      "\u001b[0;32m<ipython-input-6-5437dfa32348>\u001b[0m in \u001b[0;36m<module>\u001b[0;34m\u001b[0m\n\u001b[0;32m----> 1\u001b[0;31m \u001b[0mtitle\u001b[0m\u001b[0;34m=\u001b[0m\u001b[0mdriver\u001b[0m\u001b[0;34m.\u001b[0m\u001b[0mfind_elements_by_class_name\u001b[0m\u001b[0;34m(\u001b[0m\u001b[0;34m'ellipsis.rank01'\u001b[0m\u001b[0;34m)\u001b[0m\u001b[0;34m\u001b[0m\u001b[0;34m\u001b[0m\u001b[0m\n\u001b[0m\u001b[1;32m      2\u001b[0m \u001b[0mtitle_ary\u001b[0m \u001b[0;34m=\u001b[0m \u001b[0;34m[\u001b[0m\u001b[0;34m]\u001b[0m\u001b[0;34m\u001b[0m\u001b[0;34m\u001b[0m\u001b[0m\n\u001b[1;32m      3\u001b[0m \u001b[0;32mfor\u001b[0m \u001b[0mi\u001b[0m \u001b[0;32min\u001b[0m \u001b[0mtitle\u001b[0m\u001b[0;34m:\u001b[0m\u001b[0;34m\u001b[0m\u001b[0;34m\u001b[0m\u001b[0m\n\u001b[1;32m      4\u001b[0m   \u001b[0mtitle_ary\u001b[0m\u001b[0;34m.\u001b[0m\u001b[0mappend\u001b[0m\u001b[0;34m(\u001b[0m\u001b[0mi\u001b[0m\u001b[0;34m.\u001b[0m\u001b[0mtext\u001b[0m\u001b[0;34m)\u001b[0m\u001b[0;34m\u001b[0m\u001b[0;34m\u001b[0m\u001b[0m\n",
      "\u001b[0;31mNameError\u001b[0m: name 'driver' is not defined"
     ]
    }
   ],
   "source": [
    "title=driver.find_elements_by_class_name('ellipsis.rank01')\n",
    "title_ary = []\n",
    "for i in title:\n",
    "  title_ary.append(i.text)\n"
   ]
  },
  {
   "cell_type": "markdown",
   "metadata": {
    "id": "uvn2tt1mQLdw"
   },
   "source": []
  },
  {
   "cell_type": "code",
   "execution_count": null,
   "metadata": {
    "colab": {
     "base_uri": "https://localhost:8080/",
     "height": 54
    },
    "id": "D955lb2lNKsY",
    "outputId": "4cf93ec3-a34c-4628-958c-09985b239334"
   },
   "outputs": [
    {
     "name": "stdout",
     "output_type": "stream",
     "text": [
      "['Dynamite', '취기를 빌려 (취향저격 그녀 X 산들)', '눈누난나 (NUNU NANA)', '마리아 (Maria)', '다시 여기 바닷가', 'When We Disco (Duet with 선미)', '오래된 노래', 'How You Like That', '에잇(Prod.&Feat. SUGA of BTS)', '내 마음이 움찔했던 순간 (취향저격 그녀 X 규현)', 'Dolphin', '아로하', 'Downtown Baby', '어떻게 지내 (Prod. By VAN.C)', '홀로', 'Blueming', 'Summer Hate (Feat. 비)', 'Dance Monkey', '덤디덤디 (DUMDi DUMDi)', '흔들리는 꽃들 속에서 네 샴푸향이 느껴진거야', 'Memories', '살짝 설렜어 (Nonstop)', 'METEOR', 'Not Shy', '어떻게 이별까지 사랑하겠어, 널 사랑하는 거지', '작은 것들을 위한 시 (Boy With Luv) (Feat. Halsey)', '사랑은 지날수록 더욱 선명하게 남아', '사랑하게 될 줄 알았어', '늦은 밤 너의 집 앞 골목길에서', 'Ice Cream (with Selena Gomez)', '거짓말이라도 해서 널 보고싶어', '그 여름을 틀어줘', '모든 날, 모든 순간 (Every day, Every Moment)', '보라빛 밤 (pporappippam)', \"Don't Start Now\", '2002', '오늘도 빛나는 너에게 (To You My Light) (Feat.이라온)', '처음처럼', '아무노래', '마음을 드려요', '우리 왜 헤어져야 해', '봄날', '시작', 'ON', 'Into the I-LAND', '안녕', 'Maniac', '신난다 (Feat. 마마무)', '여름 안에서 by 싹쓰리 (Feat. 황광희)', '좋은 사람 있으면 소개시켜줘', '12:45 (Stripped)', 'Psycho', '이제 나만 믿어요', 'Love poem', '축하해', '나비와 고양이 (feat.백현 (BAEKHYUN))', 'Paris In The Rain', '취했나봐', 'LINDA (Feat. 윤미래)', '그때 그 아인', 'MORE & MORE', 'bad guy', 'PLAY (Feat. 창모)', '숲의 아이 (Bon voyage)', '화려하지 않은 고백', 'Painkiller', '밤새 (취향저격 그녀 X 카더가든)', 'Stuck with U', 'Bad Boy', '너를 만나', '어떻게 지내 (답가)', '너를 사랑하고 있어', '첫 줄', '반만', 'Tight', '00:00 (Zero O’Clock)', '별을 담은 시 (Ode To The Stars)', 'Black Swan', '덤더럼 (Dumhdurum)', 'To Die For', '친구', '사랑이란 멜로는 없어', 'HIP', 'FIESTA', '시든 꽃에 물을 주듯', '가을 타나 봐', '어느 60대 노부부이야기', '돌덩이', 'Moon', '비', '너에게 난, 나에게 넌', 'Monster', 'Filter', 'WANNABE', 'Candy', '나의 시간은', '내 눈물 모아', '시차', '그대 고운 내사랑', 'We are Bulletproof : the Eternal']\n"
     ]
    }
   ],
   "source": [
    "print(title_ary)"
   ]
  },
  {
   "cell_type": "code",
   "execution_count": null,
   "metadata": {
    "id": "Pkz20XEvO5pT"
   },
   "outputs": [],
   "source": [
    "singer=driver.find_elements_by_class_name('ellipsis.rank02')\n",
    "singer_ary =[]\n",
    "for i in singer:\n",
    "  singer_ary.append(i.text)\n"
   ]
  },
  {
   "cell_type": "code",
   "execution_count": null,
   "metadata": {
    "colab": {
     "base_uri": "https://localhost:8080/",
     "height": 54
    },
    "id": "T3i7k_L8QUuj",
    "outputId": "bfa0e550-b7ac-47f7-def6-1c2b3ee3874e"
   },
   "outputs": [
    {
     "name": "stdout",
     "output_type": "stream",
     "text": [
      "['방탄소년단', '산들', '제시 (Jessi)', '화사 (Hwa Sa)', '싹쓰리 (유두래곤, 린다G, 비룡)', '박진영', '스탠딩 에그', 'BLACKPINK', '아이유', '규현 (KYUHYUN)', '오마이걸 (OH MY GIRL)', '조정석', '블루 (BLOO)', '오반', '이하이', '아이유', '지코 (ZICO)', 'Tones And I', '(여자)아이들', '장범준', 'Maroon 5', '오마이걸 (OH MY GIRL)', '창모 (CHANGMO)', 'ITZY (있지)', 'AKMU (악동뮤지션)', '방탄소년단', '전상근', '전미도', '노을', 'BLACKPINK', '백지영', '싹쓰리 (유두래곤, 린다G, 비룡)', '폴킴', '선미', 'Dua Lipa', 'Anne-Marie', '마크툽 (MAKTUB)', '엠씨더맥스 (M.C the MAX)', '지코 (ZICO)', '아이유', '신예영', '방탄소년단', '가호 (Gaho)', '방탄소년단', '아이유', '폴킴', 'Conan Gray', '비룡', '싹쓰리 (유두래곤, 린다G, 비룡)', '조이 (JOY)', 'Etham', 'Red Velvet (레드벨벳)', '임영웅', '아이유', '오반', '볼빨간사춘기', 'Lauv', '황인욱', '린다G', '김필', 'TWICE (트와이스)', 'Billie Eilish', '청하', '유아 (오마이걸)', '규현 (KYUHYUN)', 'Ruel', '카더가든', 'Ariana Grande, Justin Bieber', '청하, Christopher', '폴킴', '런치', '백현 (BAEKHYUN)', '신용재 (2F)', '진민호', '10CM', '방탄소년단', '마크툽 (MAKTUB), 이라온', '방탄소년단', 'Apink (에이핑크)', 'Sam Smith', '방탄소년단', '전상근', '마마무 (Mamamoo)', 'IZ*ONE (아이즈원)', 'HYNN (박혜원)', '바이브', '임영웅', '하현우 (국카스텐)', '방탄소년단', '폴킴', '미도와 파라솔', '레드벨벳-아이린&슬기', '방탄소년단', 'ITZY (있지)', '백현 (BAEKHYUN)', '백현 (BAEKHYUN)', '휘인 (Whee In)', '방탄소년단', '어반자카파', '방탄소년단']\n"
     ]
    }
   ],
   "source": [
    "print(singer_ary)"
   ]
  },
  {
   "cell_type": "code",
   "execution_count": null,
   "metadata": {
    "id": "e6TDi8N0cHhp"
   },
   "outputs": [],
   "source": [
    "album = driver.find_elements_by_class_name('ellipsis.rank03')\n",
    "album_ary=[]\n",
    "for i in album:\n",
    "  album_ary.append(i.text)\n"
   ]
  },
  {
   "cell_type": "code",
   "execution_count": null,
   "metadata": {
    "colab": {
     "base_uri": "https://localhost:8080/",
     "height": 34
    },
    "id": "axIlS4ZfcWn4",
    "outputId": "f263724c-70a6-4c19-8ddd-088e79c9ab83"
   },
   "outputs": [
    {
     "name": "stdout",
     "output_type": "stream",
     "text": [
      "100\n"
     ]
    }
   ],
   "source": [
    "print(len(album_ary))"
   ]
  },
  {
   "cell_type": "markdown",
   "metadata": {
    "id": "KLJy114uf2xp"
   },
   "source": []
  },
  {
   "cell_type": "code",
   "execution_count": null,
   "metadata": {
    "id": "elzAZSjnQrzL"
   },
   "outputs": [],
   "source": [
    "songTag1 = driver.find_elements_by_id('lst50')\n",
    "num =[]\n",
    "for i in songTag1:\n",
    "  num.append(i.get_attribute('data-song-no'))\n"
   ]
  },
  {
   "cell_type": "code",
   "execution_count": null,
   "metadata": {
    "id": "d74vZiyFlY6n"
   },
   "outputs": [],
   "source": [
    "songTag2 = driver.find_elements_by_id('lst100')\n",
    "for i in songTag2:\n",
    "  num.append(i.get_attribute('data-song-no'))"
   ]
  },
  {
   "cell_type": "code",
   "execution_count": null,
   "metadata": {
    "colab": {
     "base_uri": "https://localhost:8080/",
     "height": 34
    },
    "id": "xTzuJXmSU92q",
    "outputId": "10ed21ad-bfc4-4ff2-a2ed-bb8f7e96839d"
   },
   "outputs": [
    {
     "name": "stdout",
     "output_type": "stream",
     "text": [
      "100\n"
     ]
    }
   ],
   "source": [
    "print(len(num))"
   ]
  },
  {
   "cell_type": "code",
   "execution_count": null,
   "metadata": {
    "id": "bZZEL_j8gEVo"
   },
   "outputs": [],
   "source": [
    "lyrics=[]\n",
    "for i in num:\n",
    "  driver.get('https://www.melon.com/song/detail.htm?songId='+i)\n",
    "  lyric=driver.find_element_by_class_name('lyric')\n",
    "  lyrics.append(lyric.text)\n"
   ]
  },
  {
   "cell_type": "code",
   "execution_count": null,
   "metadata": {
    "id": "C6A4cezuqXc-"
   },
   "outputs": [],
   "source": [
    "lyrics_new=[]\n",
    "for i in lyrics:\n",
    "  lyrics_new.append(i.replace(\"\\n\",\" \"))"
   ]
  },
  {
   "cell_type": "code",
   "execution_count": null,
   "metadata": {
    "colab": {
     "base_uri": "https://localhost:8080/",
     "height": 34
    },
    "id": "dKCKhgT3g3dH",
    "outputId": "53fb588f-df75-43b6-ff2a-dd2a0c743576"
   },
   "outputs": [
    {
     "name": "stdout",
     "output_type": "stream",
     "text": [
      "100\n"
     ]
    }
   ],
   "source": [
    "print(len(lyrics))"
   ]
  },
  {
   "cell_type": "code",
   "execution_count": null,
   "metadata": {
    "id": "0iPXquP4h2-L"
   },
   "outputs": [],
   "source": [
    "import pandas as pd\n",
    "df=pd.DataFrame({\"제목\":title_ary,\"가수\":singer_ary,\"앨범\":album_ary,\"가사\":lyrics_new})"
   ]
  },
  {
   "cell_type": "code",
   "execution_count": null,
   "metadata": {
    "colab": {
     "base_uri": "https://localhost:8080/",
     "height": 283
    },
    "id": "Eimmhz4qnXWb",
    "outputId": "f0961510-3fa7-453f-bbc5-9f995e3db6cb"
   },
   "outputs": [
    {
     "name": "stdout",
     "output_type": "stream",
     "text": [
      "                                  제목  ...                                                 가사\n",
      "0                           Dynamite  ...  Cos ah ah I’m in the stars tonight So watch me...\n",
      "1              취기를 빌려 (취향저격 그녀 X 산들)  ...  언제부턴가 불쑥 내 습관이 돼버린 너 혹시나 이런 맘이 어쩌면 부담일까 널 주저했어...\n",
      "2                   눈누난나 (NUNU NANA)  ...  I’m trying to give u something more So come wi...\n",
      "3                        마리아 (Maria)  ...  욕을 하도 먹어 체했어 하도 서러워도 어쩌겠어 I do 모두들 미워하느라 애썼네 날...\n",
      "4                          다시 여기 바닷가  ...  예아 호우 예예예 싹쓰리 인더 하우스 커커커커커몬 싹 쓰리 투 렛츠고 나 다시 또 ...\n",
      "..                               ...  ...                                                ...\n",
      "95                            나의 시간은  ...  한 걸음마다 난 너를 따라 발을 맞춰 나란히 함께 가고 있어 매일 난 니 어깨에 맞...\n",
      "96                           내 눈물 모아  ...  창밖으로 하나둘씩 불빛이 꺼질 때쯤이면 하늘에 편지를 써 날 떠나 다른 사람에게 갔...\n",
      "97                                시차  ...  24 누구보다 더 빨리 어른이 된 것만 같아 My life has been a mo...\n",
      "98                         그대 고운 내사랑  ...  세상에 지쳐가던 내게 그대는 다가와 가물어 갈라진 가슴에 단비를 주었죠 잊었던 희망...\n",
      "99  We are Bulletproof : the Eternal  ...  가진 게 꿈밖에 없었네 눈 뜨면 뿌연 아침뿐 밤새 춤을 추며 노래해 그 끝이 없던 ...\n",
      "\n",
      "[100 rows x 4 columns]\n"
     ]
    }
   ],
   "source": [
    "print(df)"
   ]
  },
  {
   "cell_type": "code",
   "execution_count": null,
   "metadata": {
    "colab": {
     "base_uri": "https://localhost:8080/",
     "height": 54
    },
    "id": "_Ikc-UZTpHPu",
    "outputId": "aa8cc776-b024-41a5-eca8-1f1d78336204"
   },
   "outputs": [
    {
     "name": "stdout",
     "output_type": "stream",
     "text": [
      "Drive already mounted at /content/gdrive; to attempt to forcibly remount, call drive.mount(\"/content/gdrive\", force_remount=True).\n"
     ]
    }
   ],
   "source": [
    "from google.colab import drive\n",
    "\n",
    "drive.mount('/content/gdrive')"
   ]
  },
  {
   "cell_type": "code",
   "execution_count": null,
   "metadata": {
    "colab": {
     "base_uri": "https://localhost:8080/",
     "height": 52
    },
    "id": "e9mvt5djpZ8p",
    "outputId": "2582dddb-10c7-48b5-858a-37ea08537c47"
   },
   "outputs": [
    {
     "name": "stdout",
     "output_type": "stream",
     "text": [
      "'9월28일 멜론 top100.tsv'   gdrive\t  top100.txt\n",
      "'9월28일 멜론 top100.txt'   sample_data\n"
     ]
    }
   ],
   "source": [
    "!ls"
   ]
  },
  {
   "cell_type": "code",
   "execution_count": null,
   "metadata": {
    "id": "AIoqCftzoK4U"
   },
   "outputs": [],
   "source": [
    "df.to_csv('top100.txt',index=False,header=None,sep='\\t')"
   ]
  },
  {
   "cell_type": "code",
   "execution_count": null,
   "metadata": {
    "colab": {
     "base_uri": "https://localhost:8080/",
     "height": 17
    },
    "id": "FILMPZ-nphWD",
    "outputId": "0bdbab52-7de2-4b08-f023-b632fbbc7e51"
   },
   "outputs": [
    {
     "data": {
      "application/javascript": [
       "\n",
       "    async function download(id, filename, size) {\n",
       "      if (!google.colab.kernel.accessAllowed) {\n",
       "        return;\n",
       "      }\n",
       "      const div = document.createElement('div');\n",
       "      const label = document.createElement('label');\n",
       "      label.textContent = `Downloading \"${filename}\": `;\n",
       "      div.appendChild(label);\n",
       "      const progress = document.createElement('progress');\n",
       "      progress.max = size;\n",
       "      div.appendChild(progress);\n",
       "      document.body.appendChild(div);\n",
       "\n",
       "      const buffers = [];\n",
       "      let downloaded = 0;\n",
       "\n",
       "      const channel = await google.colab.kernel.comms.open(id);\n",
       "      // Send a message to notify the kernel that we're ready.\n",
       "      channel.send({})\n",
       "\n",
       "      for await (const message of channel.messages) {\n",
       "        // Send a message to notify the kernel that we're ready.\n",
       "        channel.send({})\n",
       "        if (message.buffers) {\n",
       "          for (const buffer of message.buffers) {\n",
       "            buffers.push(buffer);\n",
       "            downloaded += buffer.byteLength;\n",
       "            progress.value = downloaded;\n",
       "          }\n",
       "        }\n",
       "      }\n",
       "      const blob = new Blob(buffers, {type: 'application/binary'});\n",
       "      const a = document.createElement('a');\n",
       "      a.href = window.URL.createObjectURL(blob);\n",
       "      a.download = filename;\n",
       "      div.appendChild(a);\n",
       "      a.click();\n",
       "      div.remove();\n",
       "    }\n",
       "  "
      ],
      "text/plain": [
       "<IPython.core.display.Javascript object>"
      ]
     },
     "metadata": {
      "tags": []
     },
     "output_type": "display_data"
    },
    {
     "data": {
      "application/javascript": [
       "download(\"download_48a67faf-7378-4d68-a6bd-0ad405c429d5\", \"top100.txt\", 159870)"
      ],
      "text/plain": [
       "<IPython.core.display.Javascript object>"
      ]
     },
     "metadata": {
      "tags": []
     },
     "output_type": "display_data"
    }
   ],
   "source": [
    "from google.colab import files\n",
    "files.download('top100.txt')"
   ]
  },
  {
   "cell_type": "markdown",
   "metadata": {
    "id": "LxZLIws0ZXPS"
   },
   "source": []
  },
  {
   "cell_type": "markdown",
   "metadata": {
    "id": "FXN_JenXnl63"
   },
   "source": []
  }
 ],
 "metadata": {
  "colab": {
   "collapsed_sections": [],
   "name": "웹크롤링.ipynb",
   "provenance": []
  },
  "kernelspec": {
   "display_name": "conda_pytorch_p36",
   "language": "python",
   "name": "conda_pytorch_p36"
  },
  "language_info": {
   "codemirror_mode": {
    "name": "ipython",
    "version": 3
   },
   "file_extension": ".py",
   "mimetype": "text/x-python",
   "name": "python",
   "nbconvert_exporter": "python",
   "pygments_lexer": "ipython3",
   "version": "3.6.10"
  }
 },
 "nbformat": 4,
 "nbformat_minor": 1
}
