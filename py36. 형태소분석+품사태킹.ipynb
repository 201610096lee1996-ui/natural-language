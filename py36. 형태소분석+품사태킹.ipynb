{
 "cells": [
  {
   "cell_type": "markdown",
   "metadata": {},
   "source": [
    "# 1. konlpy 패키지 다운로드 "
   ]
  },
  {
   "cell_type": "code",
   "execution_count": 1,
   "metadata": {},
   "outputs": [
    {
     "name": "stdout",
     "output_type": "stream",
     "text": [
      "Collecting konlpy\n",
      "  Downloading konlpy-0.5.2-py2.py3-none-any.whl (19.4 MB)\n",
      "\u001b[K     |████████████████████████████████| 19.4 MB 7.1 MB/s eta 0:00:01\n",
      "\u001b[?25hRequirement already satisfied: lxml>=4.1.0 in /home/ec2-user/anaconda3/envs/pytorch_p36/lib/python3.6/site-packages (from konlpy) (4.5.0)\n",
      "Collecting tweepy>=3.7.0\n",
      "  Downloading tweepy-3.9.0-py2.py3-none-any.whl (30 kB)\n",
      "Requirement already satisfied: numpy>=1.6 in /home/ec2-user/anaconda3/envs/pytorch_p36/lib/python3.6/site-packages (from konlpy) (1.18.1)\n",
      "Requirement already satisfied: colorama in /home/ec2-user/anaconda3/envs/pytorch_p36/lib/python3.6/site-packages (from konlpy) (0.4.3)\n",
      "Collecting beautifulsoup4==4.6.0\n",
      "  Downloading beautifulsoup4-4.6.0-py3-none-any.whl (86 kB)\n",
      "\u001b[K     |████████████████████████████████| 86 kB 9.3 MB/s  eta 0:00:01\n",
      "\u001b[?25hCollecting JPype1>=0.7.0\n",
      "  Downloading JPype1-1.1.2-cp36-cp36m-manylinux2010_x86_64.whl (450 kB)\n",
      "\u001b[K     |████████████████████████████████| 450 kB 67.4 MB/s eta 0:00:01\n",
      "\u001b[?25hRequirement already satisfied: requests[socks]>=2.11.1 in /home/ec2-user/anaconda3/envs/pytorch_p36/lib/python3.6/site-packages (from tweepy>=3.7.0->konlpy) (2.22.0)\n",
      "Requirement already satisfied: six>=1.10.0 in /home/ec2-user/anaconda3/envs/pytorch_p36/lib/python3.6/site-packages (from tweepy>=3.7.0->konlpy) (1.14.0)\n",
      "Collecting requests-oauthlib>=0.7.0\n",
      "  Downloading requests_oauthlib-1.3.0-py2.py3-none-any.whl (23 kB)\n",
      "Requirement already satisfied: typing-extensions; python_version < \"3.8\" in /home/ec2-user/anaconda3/envs/pytorch_p36/lib/python3.6/site-packages (from JPype1>=0.7.0->konlpy) (3.7.4.3)\n",
      "Requirement already satisfied: chardet<3.1.0,>=3.0.2 in /home/ec2-user/anaconda3/envs/pytorch_p36/lib/python3.6/site-packages (from requests[socks]>=2.11.1->tweepy>=3.7.0->konlpy) (3.0.4)\n",
      "Requirement already satisfied: idna<2.9,>=2.5 in /home/ec2-user/anaconda3/envs/pytorch_p36/lib/python3.6/site-packages (from requests[socks]>=2.11.1->tweepy>=3.7.0->konlpy) (2.8)\n",
      "Requirement already satisfied: urllib3!=1.25.0,!=1.25.1,<1.26,>=1.21.1 in /home/ec2-user/anaconda3/envs/pytorch_p36/lib/python3.6/site-packages (from requests[socks]>=2.11.1->tweepy>=3.7.0->konlpy) (1.25.10)\n",
      "Requirement already satisfied: certifi>=2017.4.17 in /home/ec2-user/anaconda3/envs/pytorch_p36/lib/python3.6/site-packages (from requests[socks]>=2.11.1->tweepy>=3.7.0->konlpy) (2020.6.20)\n",
      "Requirement already satisfied: PySocks!=1.5.7,>=1.5.6; extra == \"socks\" in /home/ec2-user/anaconda3/envs/pytorch_p36/lib/python3.6/site-packages (from requests[socks]>=2.11.1->tweepy>=3.7.0->konlpy) (1.7.1)\n",
      "Collecting oauthlib>=3.0.0\n",
      "  Downloading oauthlib-3.1.0-py2.py3-none-any.whl (147 kB)\n",
      "\u001b[K     |████████████████████████████████| 147 kB 68.5 MB/s eta 0:00:01\n",
      "\u001b[31mERROR: fastai 1.0.61 requires nvidia-ml-py3, which is not installed.\u001b[0m\n",
      "\u001b[?25hInstalling collected packages: oauthlib, requests-oauthlib, tweepy, beautifulsoup4, JPype1, konlpy\n",
      "  Attempting uninstall: beautifulsoup4\n",
      "    Found existing installation: beautifulsoup4 4.8.2\n",
      "    Uninstalling beautifulsoup4-4.8.2:\n",
      "      Successfully uninstalled beautifulsoup4-4.8.2\n",
      "Successfully installed JPype1-1.1.2 beautifulsoup4-4.6.0 konlpy-0.5.2 oauthlib-3.1.0 requests-oauthlib-1.3.0 tweepy-3.9.0\n",
      "\u001b[33mWARNING: You are using pip version 20.0.2; however, version 20.2.4 is available.\n",
      "You should consider upgrading via the '/home/ec2-user/anaconda3/envs/pytorch_p36/bin/python -m pip install --upgrade pip' command.\u001b[0m\n"
     ]
    }
   ],
   "source": [
    "!pip install konlpy "
   ]
  },
  {
   "cell_type": "markdown",
   "metadata": {},
   "source": [
    "# 2. konlpy 관련 패키지 import"
   ]
  },
  {
   "cell_type": "code",
   "execution_count": 2,
   "metadata": {},
   "outputs": [],
   "source": [
    "from konlpy.tag import Okt\n",
    "from konlpy.tag import Kkma\n",
    "from konlpy.tag import Hannanum\n",
    "from konlpy.tag import Komoran\n",
    "from konlpy.tag import Twitter\n",
    "from konlpy.tag import Mecab"
   ]
  },
  {
   "cell_type": "markdown",
   "metadata": {},
   "source": [
    "# 3. 객체 생성"
   ]
  },
  {
   "cell_type": "code",
   "execution_count": 3,
   "metadata": {},
   "outputs": [
    {
     "name": "stderr",
     "output_type": "stream",
     "text": [
      "/home/ec2-user/anaconda3/envs/pytorch_p36/lib/python3.6/site-packages/konlpy/tag/_okt.py:16: UserWarning: \"Twitter\" has changed to \"Okt\" since KoNLPy v0.4.5.\n",
      "  warn('\"Twitter\" has changed to \"Okt\" since KoNLPy v0.4.5.')\n"
     ]
    }
   ],
   "source": [
    "Kkma = Kkma()\n",
    "okt = Okt()\n",
    "komoran = Komoran()\n",
    "hannanum = Hannanum()\n",
    "twitter = Twitter()"
   ]
  },
  {
   "cell_type": "markdown",
   "metadata": {},
   "source": [
    "# 4. 문장 분리(Kkma only)"
   ]
  },
  {
   "cell_type": "code",
   "execution_count": 5,
   "metadata": {},
   "outputs": [
    {
     "name": "stdout",
     "output_type": "stream",
     "text": [
      "Kkma 문장 분리 : ['네 안녕하세요', '반갑습니다.']\n"
     ]
    }
   ],
   "source": [
    "print(\"Kkma 문장 분리 :\", Kkma.sentences('네 안녕하세요 반갑습니다.'))"
   ]
  },
  {
   "cell_type": "code",
   "execution_count": 6,
   "metadata": {},
   "outputs": [
    {
     "name": "stdout",
     "output_type": "stream",
     "text": [
      "Kkma 문장 분리 : ['네 안녕하세요', '반갑습니다.']\n"
     ]
    }
   ],
   "source": [
    "print(\"Kkma 문장 분리 :\",Kkma.sentences('네안녕하세요반갑습니다.'))"
   ]
  },
  {
   "cell_type": "markdown",
   "metadata": {},
   "source": [
    "# 5. 형태소 분석"
   ]
  },
  {
   "cell_type": "code",
   "execution_count": 7,
   "metadata": {},
   "outputs": [
    {
     "name": "stdout",
     "output_type": "stream",
     "text": [
      "okt 형태소 분석 : ['그녀', '는', '아직', '짐', '을', '풀', '지', '않은', '새집', '을', '둘러보았다', '.']\n",
      "Kkma 형태소 분석 : ['그녀', '는', '아직', '짐', '을', '푸', 'ㄹ지', '않', '은', '새집', '을', '둘러보', '았', '다', '.']\n",
      "hannanum 형태소 분석 : ['그녀', '는', '아직', '지', 'ㅁ', '을', '풀', '지', '않', '은', '새집', '을', '두르', '어', '보', '아다', '.']\n",
      "komoran 형태소 분석 : ['그녀', '는', '아직', '짐', '을', '풀', '지', '않', '은', '새집', '을', '둘러보', '았', '다', '.']\n",
      "twitter 형태소 분석 : ['그녀', '는', '아직', '짐', '을', '풀', '지', '않은', '새집', '을', '둘러보았다', '.']\n"
     ]
    }
   ],
   "source": [
    "in_str = u\"그녀는 아직 짐을 풀지 않은 새집을 둘러보았다.\"\n",
    "\n",
    "print(\"okt 형태소 분석 :\", okt.morphs(in_str))\n",
    "print(\"Kkma 형태소 분석 :\", Kkma.morphs(in_str))\n",
    "print(\"hannanum 형태소 분석 :\", hannanum.morphs(in_str))\n",
    "print(\"komoran 형태소 분석 :\", komoran.morphs(in_str))\n",
    "print(\"twitter 형태소 분석 :\", twitter.morphs(in_str))"
   ]
  },
  {
   "cell_type": "markdown",
   "metadata": {},
   "source": [
    "# 6. 품사 태깅\n",
    "[품사 태깅 표](http://Kkma.snu.ac.kr/documents/?doc=postag) "
   ]
  },
  {
   "cell_type": "code",
   "execution_count": 8,
   "metadata": {},
   "outputs": [
    {
     "name": "stdout",
     "output_type": "stream",
     "text": [
      "okt 품사태깅 : [('그녀', 'Noun'), ('는', 'Josa'), ('아직', 'Adverb'), ('짐', 'Noun'), ('을', 'Josa'), ('풀', 'Noun'), ('지', 'Josa'), ('않은', 'Verb'), ('새집', 'Noun'), ('을', 'Josa'), ('둘러보았다', 'Verb'), ('.', 'Punctuation')]\n",
      "Kkma 품사태깅 : [('그녀', 'NP'), ('는', 'JX'), ('아직', 'MAG'), ('짐', 'NNG'), ('을', 'JKO'), ('푸', 'VV'), ('ㄹ지', 'ECD'), ('않', 'VXV'), ('은', 'ETD'), ('새집', 'NNG'), ('을', 'JKO'), ('둘러보', 'VV'), ('았', 'EPT'), ('다', 'EFN'), ('.', 'SF')]\n",
      "hannanum 품사태깅 : [('그녀', 'N'), ('는', 'J'), ('아직', 'M'), ('지', 'P'), ('ㅁ', 'E'), ('을', 'J'), ('풀', 'P'), ('지', 'E'), ('않', 'P'), ('은', 'E'), ('새집', 'N'), ('을', 'J'), ('두르', 'P'), ('어', 'E'), ('보', 'P'), ('아다', 'E'), ('.', 'S')]\n",
      "komoran 품사태깅 : [('그녀', 'NP'), ('는', 'JX'), ('아직', 'MAG'), ('짐', 'NNG'), ('을', 'JKO'), ('풀', 'VV'), ('지', 'EC'), ('않', 'VX'), ('은', 'ETM'), ('새집', 'NNP'), ('을', 'JKO'), ('둘러보', 'VV'), ('았', 'EP'), ('다', 'EF'), ('.', 'SF')]\n",
      "twitter 품사태깅 : [('그녀', 'Noun'), ('는', 'Josa'), ('아직', 'Adverb'), ('짐', 'Noun'), ('을', 'Josa'), ('풀', 'Noun'), ('지', 'Josa'), ('않은', 'Verb'), ('새집', 'Noun'), ('을', 'Josa'), ('둘러보았다', 'Verb'), ('.', 'Punctuation')]\n"
     ]
    }
   ],
   "source": [
    "in_str = u\"그녀는 아직 짐을 풀지 않은 새집을 둘러보았다.\"\n",
    "\n",
    "print(\"okt 품사태깅 :\", okt.pos(in_str))\n",
    "print(\"Kkma 품사태깅 :\", Kkma.pos(in_str))\n",
    "print(\"hannanum 품사태깅 :\", hannanum.pos(in_str))\n",
    "print(\"komoran 품사태깅 :\", komoran.pos(in_str))\n",
    "print(\"twitter 품사태깅 :\", twitter.pos(in_str))"
   ]
  },
  {
   "cell_type": "code",
   "execution_count": null,
   "metadata": {},
   "outputs": [],
   "source": []
  }
 ],
 "metadata": {
  "kernelspec": {
   "display_name": "conda_pytorch_p36",
   "language": "python",
   "name": "conda_pytorch_p36"
  },
  "language_info": {
   "codemirror_mode": {
    "name": "ipython",
    "version": 3
   },
   "file_extension": ".py",
   "mimetype": "text/x-python",
   "name": "python",
   "nbconvert_exporter": "python",
   "pygments_lexer": "ipython3",
   "version": "3.6.10"
  }
 },
 "nbformat": 4,
 "nbformat_minor": 4
}
